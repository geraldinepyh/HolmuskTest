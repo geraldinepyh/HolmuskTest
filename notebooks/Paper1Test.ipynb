{
 "cells": [
  {
   "cell_type": "code",
   "execution_count": 48,
   "metadata": {},
   "outputs": [
    {
     "ename": "SyntaxError",
     "evalue": "invalid syntax (<ipython-input-48-da6835244b63>, line 11)",
     "output_type": "error",
     "traceback": [
      "\u001b[0;36m  File \u001b[0;32m\"<ipython-input-48-da6835244b63>\"\u001b[0;36m, line \u001b[0;32m11\u001b[0m\n\u001b[0;31m    df = pd.read_csv('../data/intermediate/patients.csv', index=)\u001b[0m\n\u001b[0m                                                                ^\u001b[0m\n\u001b[0;31mSyntaxError\u001b[0m\u001b[0;31m:\u001b[0m invalid syntax\n"
     ]
    }
   ],
   "source": [
    "def getFilteredData():\n",
    "    # \n",
    "#     print(\"Starting Query now.\")\n",
    "#     query = sql.SQL(makeQueryString(limit=True))\n",
    "#     data = pgIO.getAllData(query)\n",
    "#     print('Got my data, it has {} records'.format(len(data)))\n",
    "#     # persist data to intermediate folder\n",
    "#     df = pd.DataFrame(data)\n",
    "#     # df.to_csv('../data/intermediate/patients.csv', columns=['id','race','sex'], index=False)\n",
    "\n",
    "    df = pd.read_csv('../data/intermediate/patients.csv', index=)\n",
    "    print(df.head())\n",
    "    df.columns = ['id','race','sex']\n",
    "    return df\n",
    "    \n",
    "def makeQueryString():\n",
    "    reference_file = pd.read_csv(\"../data/raw_data/ref/race.csv\")\n",
    "\n",
    "    query = '''\n",
    "            SELECT id, race, sex  \n",
    "            FROM {schema}.{table}\n",
    "            WHERE race IS NOT NULL\n",
    "            AND sex IS NOT NULL\n",
    "            '''.format(schema  = schema, \n",
    "                        table   = table)\n",
    "    query_extension = \" AND (\"\n",
    "    # Given race.csv \n",
    "    for r in reference_file['race']:\n",
    "        query_extension += \"race = '{}' OR \".format(r)\n",
    "    query += query_extension[:-4] + \")\" # remove the last \" OR\"\n",
    "\n",
    "    if limit: # debugging\n",
    "        query += \" LIMIT 50\" \n",
    "        print(query)\n",
    "\n",
    "    return query \n",
    "\n",
    "def recodeData(data,col):\n",
    "    print(col)\n",
    "    ref = pd.read_csv('../data/raw_data/ref/{}.csv'.format(col), index_col=False)\n",
    "    print(ref.head())\n",
    "\n",
    "    data_merged = data.merge(right=ref, how = 'inner', on=col)\n",
    "    print(data_merged.shape)\n",
    "\n",
    "#     data_merged = data_merged.drop(col,axis=1)\n",
    "    print(data_merged.shape)\n",
    "    return data_merged\n",
    "\n"
   ]
  },
  {
   "cell_type": "code",
   "execution_count": 49,
   "metadata": {},
   "outputs": [
    {
     "name": "stdout",
     "output_type": "stream",
     "text": [
      "      id      race sex\n",
      "0   1211     Asian   M\n",
      "1  14276  Biracial   M\n",
      "2   7382     Asian   M\n",
      "3  17406     Asian   F\n",
      "4  25336     Asian   F\n"
     ]
    }
   ],
   "source": [
    "df = pd.read_csv('../data/intermediate/patients.csv')\n",
    "df.drop('Unnamed: 0', axis=1, inplace=True)\n",
    "df.columns = ['id','race','sex']\n",
    "print(df.head())"
   ]
  },
  {
   "cell_type": "code",
   "execution_count": 51,
   "metadata": {
    "scrolled": true
   },
   "outputs": [
    {
     "name": "stdout",
     "output_type": "stream",
     "text": [
      "race\n",
      "                            race recodedRace\n",
      "0  Multiracial:Other Combination          MR\n",
      "1               PACIFIC ISLANDER        NHPI\n",
      "2                          Asian          AA\n",
      "3                    MultiRacial          MR\n",
      "4                       Biracial          MR\n",
      "(50, 4)\n",
      "(50, 3)\n",
      "sex\n",
      "      sex recodedSex\n",
      "0       F     Female\n",
      "1  Female     Female\n",
      "2       M       Male\n",
      "3    Male       Male\n",
      "(50, 4)\n",
      "(50, 3)\n"
     ]
    }
   ],
   "source": [
    "# data = getFilteredData()\n",
    "for col in ['race','sex']: data_recoded = recodeData(df, col) "
   ]
  },
  {
   "cell_type": "code",
   "execution_count": 98,
   "metadata": {},
   "outputs": [],
   "source": [
    "def queryExtend(col_name, col_values):    \n",
    "    query_extension = \" AND {} IN (\".format(col_name)\n",
    "    ext=\"\"\n",
    "    for r in col_values:\n",
    "        ext += \"\\'\" + str(r) + \"\\', \"\n",
    "    query_extension += ext[:-2] + \")\"\n",
    "# #         query_extension += \"{} = '{}' OR \".format(col_name, r)\n",
    "#     query_extension += query_extension[:-4] + \")\" # remove the last \" OR\"\n",
    "    print(query_extension)\n",
    "    return query_extension "
   ]
  },
  {
   "cell_type": "code",
   "execution_count": 99,
   "metadata": {},
   "outputs": [
    {
     "name": "stdout",
     "output_type": "stream",
     "text": [
      " AND id IN ('1211', '14276', '7382', '7883', '15418', '24668', '32105', '32597', '20899', '25648', '26268', '43588', '33498', '14740', '16633', '3502', '20187', '6848', '19319', '43946', '23292', '25719', '23676', '6423', '40481', '40308', '45554', '31952', '12139', '45531', '26826', '17406', '25336', '42653', '10828', '13562', '28186', '12369', '21855', '636', '7498', '16793', '44824', '22301', '11243', '15204', '23301', '2369', '25974', '44725')\n"
     ]
    },
    {
     "data": {
      "text/plain": [
       "\" AND id IN ('1211', '14276', '7382', '7883', '15418', '24668', '32105', '32597', '20899', '25648', '26268', '43588', '33498', '14740', '16633', '3502', '20187', '6848', '19319', '43946', '23292', '25719', '23676', '6423', '40481', '40308', '45554', '31952', '12139', '45531', '26826', '17406', '25336', '42653', '10828', '13562', '28186', '12369', '21855', '636', '7498', '16793', '44824', '22301', '11243', '15204', '23301', '2369', '25974', '44725')\""
      ]
     },
     "execution_count": 99,
     "metadata": {},
     "output_type": "execute_result"
    }
   ],
   "source": [
    "queryExtend(data_recoded.columns[0], col_values)"
   ]
  },
  {
   "cell_type": "code",
   "execution_count": 55,
   "metadata": {
    "scrolled": true
   },
   "outputs": [
    {
     "data": {
      "text/html": [
       "<div>\n",
       "<style scoped>\n",
       "    .dataframe tbody tr th:only-of-type {\n",
       "        vertical-align: middle;\n",
       "    }\n",
       "\n",
       "    .dataframe tbody tr th {\n",
       "        vertical-align: top;\n",
       "    }\n",
       "\n",
       "    .dataframe thead th {\n",
       "        text-align: right;\n",
       "    }\n",
       "</style>\n",
       "<table border=\"1\" class=\"dataframe\">\n",
       "  <thead>\n",
       "    <tr style=\"text-align: right;\">\n",
       "      <th></th>\n",
       "      <th>id</th>\n",
       "      <th>race</th>\n",
       "      <th>recodedSex</th>\n",
       "    </tr>\n",
       "  </thead>\n",
       "  <tbody>\n",
       "    <tr>\n",
       "      <th>0</th>\n",
       "      <td>1211</td>\n",
       "      <td>Asian</td>\n",
       "      <td>Male</td>\n",
       "    </tr>\n",
       "    <tr>\n",
       "      <th>1</th>\n",
       "      <td>14276</td>\n",
       "      <td>Biracial</td>\n",
       "      <td>Male</td>\n",
       "    </tr>\n",
       "    <tr>\n",
       "      <th>2</th>\n",
       "      <td>7382</td>\n",
       "      <td>Asian</td>\n",
       "      <td>Male</td>\n",
       "    </tr>\n",
       "    <tr>\n",
       "      <th>3</th>\n",
       "      <td>7883</td>\n",
       "      <td>Asian</td>\n",
       "      <td>Male</td>\n",
       "    </tr>\n",
       "    <tr>\n",
       "      <th>4</th>\n",
       "      <td>15418</td>\n",
       "      <td>Asian</td>\n",
       "      <td>Male</td>\n",
       "    </tr>\n",
       "  </tbody>\n",
       "</table>\n",
       "</div>"
      ],
      "text/plain": [
       "      id      race recodedSex\n",
       "0   1211     Asian       Male\n",
       "1  14276  Biracial       Male\n",
       "2   7382     Asian       Male\n",
       "3   7883     Asian       Male\n",
       "4  15418     Asian       Male"
      ]
     },
     "execution_count": 55,
     "metadata": {},
     "output_type": "execute_result"
    }
   ],
   "source": [
    "data_recoded.head()"
   ]
  },
  {
   "cell_type": "code",
   "execution_count": 74,
   "metadata": {},
   "outputs": [],
   "source": [
    "col_values = data_recoded.iloc[:,0]"
   ]
  },
  {
   "cell_type": "code",
   "execution_count": 66,
   "metadata": {},
   "outputs": [
    {
     "data": {
      "text/plain": [
       "'id'"
      ]
     },
     "execution_count": 66,
     "metadata": {},
     "output_type": "execute_result"
    }
   ],
   "source": [
    "data_recoded.columns[0]"
   ]
  },
  {
   "cell_type": "code",
   "execution_count": 76,
   "metadata": {
    "scrolled": true
   },
   "outputs": [
    {
     "data": {
      "text/plain": [
       "\" SELECT backgroundid, dsmno FROM raw_data.pdiagnose WHERE dsmno IS NOT NULL AND (backgroundid = '1211' OR backgroundid = '14276' OR backgroundid = '7382' OR backgroundid = '7883' OR backgroundid = '15418' OR backgroundid = '24668' OR backgroundid = '32105' OR backgroundid = '32597' OR backgroundid = '20899' OR backgroundid = '25648' OR backgroundid = '26268' OR backgroundid = '43588' OR backgroundid = '33498' OR backgroundid = '14740' OR backgroundid = '16633' OR backgroundid = '3502' OR backgroundid = '20187' OR backgroundid = '6848' OR backgroundid = '19319' OR backgroundid = '43946' OR backgroundid = '23292' OR backgroundid = '25719' OR backgroundid = '23676' OR backgroundid = '6423' OR backgroundid = '40481' OR backgroundid = '40308' OR backgroundid = '45554' OR backgroundid = '31952' OR backgroundid = '12139' OR backgroundid = '45531' OR backgroundid = '26826' OR backgroundid = '17406' OR backgroundid = '25336' OR backgroundid = '42653' OR backgroundid = '10828' OR backgroundid = '13562' OR backgroundid = '28186' OR backgroundid = '12369' OR backgroundid = '21855' OR backgroundid = '636' OR backgroundid = '7498' OR backgroundid = '16793' OR backgroundid = '44824' OR backgroundid = '22301' OR backgroundid = '11243' OR backgroundid = '15204' OR backgroundid = '23301' OR backgroundid = '2369' OR backgroundid = '25974' OR backgroundid = '44725' OR  AND (backgroundid = '1211' OR backgroundid = '14276' OR backgroundid = '7382' OR backgroundid = '7883' OR backgroundid = '15418' OR backgroundid = '24668' OR backgroundid = '32105' OR backgroundid = '32597' OR backgroundid = '20899' OR backgroundid = '25648' OR backgroundid = '26268' OR backgroundid = '43588' OR backgroundid = '33498' OR backgroundid = '14740' OR backgroundid = '16633' OR backgroundid = '3502' OR backgroundid = '20187' OR backgroundid = '6848' OR backgroundid = '19319' OR backgroundid = '43946' OR backgroundid = '23292' OR backgroundid = '25719' OR backgroundid = '23676' OR backgroundid = '6423' OR backgroundid = '40481' OR backgroundid = '40308' OR backgroundid = '45554' OR backgroundid = '31952' OR backgroundid = '12139' OR backgroundid = '45531' OR backgroundid = '26826' OR backgroundid = '17406' OR backgroundid = '25336' OR backgroundid = '42653' OR backgroundid = '10828' OR backgroundid = '13562' OR backgroundid = '28186' OR backgroundid = '12369' OR backgroundid = '21855' OR backgroundid = '636' OR backgroundid = '7498' OR backgroundid = '16793' OR backgroundid = '44824' OR backgroundid = '22301' OR backgroundid = '11243' OR backgroundid = '15204' OR backgroundid = '23301' OR backgroundid = '2369' OR backgroundid = '25974' OR backgroundid = '44725') LIMIT 50\""
      ]
     },
     "execution_count": 76,
     "metadata": {},
     "output_type": "execute_result"
    }
   ],
   "source": [
    "query = \"\"\n",
    "ext = \"\"\n",
    "\n",
    "query = \"\"\" SELECT backgroundid, dsmno FROM raw_data.pdiagnose WHERE dsmno IS NOT NULL\"\"\"\n",
    "# ext = queryExtend(\"background\"+data_recoded.columns[0], col_values)\n",
    "query + ext + \" LIMIT 50\""
   ]
  },
  {
   "cell_type": "code",
   "execution_count": 73,
   "metadata": {},
   "outputs": [
    {
     "data": {
      "text/plain": [
       "\" SELECT backgroundid, dsmno FROM raw_data.pdiagnose WHERE dsmno IS NOT NULL AND (backgroundid = '1211' OR backgroundid = '14276' OR backgroundid = '7382' OR backgroundid = '7883' OR backgroundid = '15418' OR backgroundid = '24668' OR backgroundid = '32105' OR backgroundid = '32597' OR backgroundid = '20899' OR backgroundid = '25648' OR backgroundid = '26268' OR backgroundid = '43588' OR backgroundid = '33498' OR backgroundid = '14740' OR backgroundid = '16633' OR backgroundid = '3502' OR backgroundid = '20187' OR backgroundid = '6848' OR backgroundid = '19319' OR backgroundid = '43946' OR backgroundid = '23292' OR backgroundid = '25719' OR backgroundid = '23676' OR backgroundid = '6423' OR backgroundid = '40481' OR backgroundid = '40308' OR backgroundid = '45554' OR backgroundid = '31952' OR backgroundid = '12139' OR backgroundid = '45531' OR backgroundid = '26826' OR backgroundid = '17406' OR backgroundid = '25336' OR backgroundid = '42653' OR backgroundid = '10828' OR backgroundid = '13562' OR backgroundid = '28186' OR backgroundid = '12369' OR backgroundid = '21855' OR backgroundid = '636' OR backgroundid = '7498' OR backgroundid = '16793' OR backgroundid = '44824' OR backgroundid = '22301' OR backgroundid = '11243' OR backgroundid = '15204' OR backgroundid = '23301' OR backgroundid = '2369' OR backgroundid = '25974' OR backgroundid = '44725' OR  AND (backgroundid = '1211' OR backgroundid = '14276' OR backgroundid = '7382' OR backgroundid = '7883' OR backgroundid = '15418' OR backgroundid = '24668' OR backgroundid = '32105' OR backgroundid = '32597' OR backgroundid = '20899' OR backgroundid = '25648' OR backgroundid = '26268' OR backgroundid = '43588' OR backgroundid = '33498' OR backgroundid = '14740' OR backgroundid = '16633' OR backgroundid = '3502' OR backgroundid = '20187' OR backgroundid = '6848' OR backgroundid = '19319' OR backgroundid = '43946' OR backgroundid = '23292' OR backgroundid = '25719' OR backgroundid = '23676' OR backgroundid = '6423' OR backgroundid = '40481' OR backgroundid = '40308' OR backgroundid = '45554' OR backgroundid = '31952' OR backgroundid = '12139' OR backgroundid = '45531' OR backgroundid = '26826' OR backgroundid = '17406' OR backgroundid = '25336' OR backgroundid = '42653' OR backgroundid = '10828' OR backgroundid = '13562' OR backgroundid = '28186' OR backgroundid = '12369' OR backgroundid = '21855' OR backgroundid = '636' OR backgroundid = '7498' OR backgroundid = '16793' OR backgroundid = '44824' OR backgroundid = '22301' OR backgroundid = '11243' OR backgroundid = '15204' OR backgroundid = '23301' OR backgroundid = '2369' OR backgroundid = '25974' OR backgroundid = '44725') LIMIT 50\""
      ]
     },
     "execution_count": 73,
     "metadata": {},
     "output_type": "execute_result"
    }
   ],
   "source": [
    "query"
   ]
  },
  {
   "cell_type": "code",
   "execution_count": null,
   "metadata": {},
   "outputs": [],
   "source": []
  }
 ],
 "metadata": {
  "kernelspec": {
   "display_name": "Python 3",
   "language": "python",
   "name": "python3"
  },
  "language_info": {
   "codemirror_mode": {
    "name": "ipython",
    "version": 3
   },
   "file_extension": ".py",
   "mimetype": "text/x-python",
   "name": "python",
   "nbconvert_exporter": "python",
   "pygments_lexer": "ipython3",
   "version": "3.6.8"
  }
 },
 "nbformat": 4,
 "nbformat_minor": 2
}
