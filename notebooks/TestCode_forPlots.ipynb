{
 "cells": [
  {
   "cell_type": "code",
   "execution_count": 1,
   "metadata": {},
   "outputs": [],
   "source": [
    "import pandas as pd\n",
    "import numpy as np\n",
    "import matplotlib.pyplot as plt\n",
    "import re"
   ]
  },
  {
   "cell_type": "code",
   "execution_count": 2,
   "metadata": {},
   "outputs": [],
   "source": [
    "data = np.load(\"../data/raw_data/raw_data.npy\", allow_pickle=True)"
   ]
  },
  {
   "cell_type": "code",
   "execution_count": 3,
   "metadata": {
    "scrolled": true
   },
   "outputs": [
    {
     "name": "stdout",
     "output_type": "stream",
     "text": [
      "(501138, 29)\n"
     ]
    }
   ],
   "source": [
    "df = pd.DataFrame(data)\n",
    "print(df.shape)"
   ]
  },
  {
   "cell_type": "code",
   "execution_count": 4,
   "metadata": {},
   "outputs": [],
   "source": [
    "ls = '''secondarylanguage\n",
    "c_meds\n",
    "grade\n",
    "consent\n",
    "billofrights\n",
    "marital\n",
    "resource_\n",
    "inactive\n",
    "coccupation\n",
    "education\n",
    "id\n",
    "ethnicity\n",
    "specialed\n",
    "noticeofpriv\n",
    "zipcode\n",
    "religion\n",
    "income\n",
    "primarylanguage\n",
    "fin\n",
    "advancedirective\n",
    "rreason\n",
    "emplystatus\n",
    "student\n",
    "sex\n",
    "race\n",
    "siteid\n",
    "hoccupation\n",
    "dependents\n",
    "certified_visits'''\n",
    "colnames = ls.splitlines()"
   ]
  },
  {
   "cell_type": "code",
   "execution_count": 5,
   "metadata": {},
   "outputs": [
    {
     "data": {
      "text/html": [
       "<div>\n",
       "<style scoped>\n",
       "    .dataframe tbody tr th:only-of-type {\n",
       "        vertical-align: middle;\n",
       "    }\n",
       "\n",
       "    .dataframe tbody tr th {\n",
       "        vertical-align: top;\n",
       "    }\n",
       "\n",
       "    .dataframe thead th {\n",
       "        text-align: right;\n",
       "    }\n",
       "</style>\n",
       "<table border=\"1\" class=\"dataframe\">\n",
       "  <thead>\n",
       "    <tr style=\"text-align: right;\">\n",
       "      <th></th>\n",
       "      <th>secondarylanguage</th>\n",
       "      <th>c_meds</th>\n",
       "      <th>grade</th>\n",
       "      <th>consent</th>\n",
       "      <th>billofrights</th>\n",
       "      <th>marital</th>\n",
       "      <th>resource_</th>\n",
       "      <th>inactive</th>\n",
       "      <th>coccupation</th>\n",
       "      <th>education</th>\n",
       "      <th>...</th>\n",
       "      <th>advancedirective</th>\n",
       "      <th>rreason</th>\n",
       "      <th>emplystatus</th>\n",
       "      <th>student</th>\n",
       "      <th>sex</th>\n",
       "      <th>race</th>\n",
       "      <th>siteid</th>\n",
       "      <th>hoccupation</th>\n",
       "      <th>dependents</th>\n",
       "      <th>certified_visits</th>\n",
       "    </tr>\n",
       "  </thead>\n",
       "  <tbody>\n",
       "    <tr>\n",
       "      <th>0</th>\n",
       "      <td>None</td>\n",
       "      <td>yes</td>\n",
       "      <td>None</td>\n",
       "      <td>None</td>\n",
       "      <td>None</td>\n",
       "      <td>F</td>\n",
       "      <td>None</td>\n",
       "      <td>None</td>\n",
       "      <td>None</td>\n",
       "      <td>None</td>\n",
       "      <td>...</td>\n",
       "      <td>None</td>\n",
       "      <td>None</td>\n",
       "      <td>None</td>\n",
       "      <td>None</td>\n",
       "      <td>M</td>\n",
       "      <td>None</td>\n",
       "      <td>ArapahoeHouse</td>\n",
       "      <td>None</td>\n",
       "      <td>1</td>\n",
       "      <td>-139</td>\n",
       "    </tr>\n",
       "    <tr>\n",
       "      <th>1</th>\n",
       "      <td>None</td>\n",
       "      <td>yes</td>\n",
       "      <td>None</td>\n",
       "      <td>None</td>\n",
       "      <td>None</td>\n",
       "      <td>Married</td>\n",
       "      <td>None</td>\n",
       "      <td>Active</td>\n",
       "      <td>Administrator</td>\n",
       "      <td>Engineering Degree</td>\n",
       "      <td>...</td>\n",
       "      <td>None</td>\n",
       "      <td>None</td>\n",
       "      <td>None</td>\n",
       "      <td>No</td>\n",
       "      <td>M</td>\n",
       "      <td>None</td>\n",
       "      <td>ArapahoeHouse</td>\n",
       "      <td>Administrator</td>\n",
       "      <td>0</td>\n",
       "      <td>-1033</td>\n",
       "    </tr>\n",
       "    <tr>\n",
       "      <th>2</th>\n",
       "      <td>None</td>\n",
       "      <td>yes</td>\n",
       "      <td>None</td>\n",
       "      <td>None</td>\n",
       "      <td>None</td>\n",
       "      <td>Divorced</td>\n",
       "      <td>None</td>\n",
       "      <td>Active</td>\n",
       "      <td>None</td>\n",
       "      <td>2.5 years of college</td>\n",
       "      <td>...</td>\n",
       "      <td>None</td>\n",
       "      <td>Alc dep</td>\n",
       "      <td>None</td>\n",
       "      <td>No</td>\n",
       "      <td>F</td>\n",
       "      <td>None</td>\n",
       "      <td>ArapahoeHouse</td>\n",
       "      <td>None</td>\n",
       "      <td>0</td>\n",
       "      <td>-238</td>\n",
       "    </tr>\n",
       "    <tr>\n",
       "      <th>3</th>\n",
       "      <td>None</td>\n",
       "      <td>yes</td>\n",
       "      <td>None</td>\n",
       "      <td>None</td>\n",
       "      <td>None</td>\n",
       "      <td>Single</td>\n",
       "      <td>None</td>\n",
       "      <td>None</td>\n",
       "      <td>None</td>\n",
       "      <td>None</td>\n",
       "      <td>...</td>\n",
       "      <td>None</td>\n",
       "      <td>None</td>\n",
       "      <td>None</td>\n",
       "      <td>None</td>\n",
       "      <td>M</td>\n",
       "      <td>None</td>\n",
       "      <td>ArapahoeHouse</td>\n",
       "      <td>None</td>\n",
       "      <td>0</td>\n",
       "      <td>-17</td>\n",
       "    </tr>\n",
       "    <tr>\n",
       "      <th>4</th>\n",
       "      <td>None</td>\n",
       "      <td>None</td>\n",
       "      <td>None</td>\n",
       "      <td>None</td>\n",
       "      <td>None</td>\n",
       "      <td>Single</td>\n",
       "      <td>None</td>\n",
       "      <td>None</td>\n",
       "      <td>None</td>\n",
       "      <td>None</td>\n",
       "      <td>...</td>\n",
       "      <td>None</td>\n",
       "      <td>None</td>\n",
       "      <td>None</td>\n",
       "      <td>None</td>\n",
       "      <td>M</td>\n",
       "      <td>None</td>\n",
       "      <td>ArapahoeHouse</td>\n",
       "      <td>None</td>\n",
       "      <td>1</td>\n",
       "      <td>-1</td>\n",
       "    </tr>\n",
       "  </tbody>\n",
       "</table>\n",
       "<p>5 rows × 29 columns</p>\n",
       "</div>"
      ],
      "text/plain": [
       "  secondarylanguage c_meds grade consent billofrights   marital resource_  \\\n",
       "0              None    yes  None    None         None         F      None   \n",
       "1              None    yes  None    None         None   Married      None   \n",
       "2              None    yes  None    None         None  Divorced      None   \n",
       "3              None    yes  None    None         None    Single      None   \n",
       "4              None   None  None    None         None    Single      None   \n",
       "\n",
       "  inactive    coccupation             education  ... advancedirective  \\\n",
       "0     None           None                  None  ...             None   \n",
       "1   Active  Administrator    Engineering Degree  ...             None   \n",
       "2   Active           None  2.5 years of college  ...             None   \n",
       "3     None           None                  None  ...             None   \n",
       "4     None           None                  None  ...             None   \n",
       "\n",
       "   rreason emplystatus student sex  race         siteid    hoccupation  \\\n",
       "0     None        None    None   M  None  ArapahoeHouse           None   \n",
       "1     None        None      No   M  None  ArapahoeHouse  Administrator   \n",
       "2  Alc dep        None      No   F  None  ArapahoeHouse           None   \n",
       "3     None        None    None   M  None  ArapahoeHouse           None   \n",
       "4     None        None    None   M  None  ArapahoeHouse           None   \n",
       "\n",
       "  dependents certified_visits  \n",
       "0          1             -139  \n",
       "1          0            -1033  \n",
       "2          0             -238  \n",
       "3          0              -17  \n",
       "4          1               -1  \n",
       "\n",
       "[5 rows x 29 columns]"
      ]
     },
     "execution_count": 5,
     "metadata": {},
     "output_type": "execute_result"
    }
   ],
   "source": [
    "df.columns = colnames\n",
    "df.head()"
   ]
  },
  {
   "cell_type": "code",
   "execution_count": 6,
   "metadata": {},
   "outputs": [],
   "source": [
    "data_backup = df.copy()"
   ]
  },
  {
   "cell_type": "markdown",
   "metadata": {},
   "source": [
    "### Marital "
   ]
  },
  {
   "cell_type": "code",
   "execution_count": 7,
   "metadata": {
    "scrolled": true
   },
   "outputs": [
    {
     "data": {
      "text/plain": [
       "Single                                                150945\n",
       "Married                                                72480\n",
       "Never married                                          35904\n",
       "Divorced                                               29273\n",
       "Never Married                                          25383\n",
       "Marital Status unknown                                 16619\n",
       "N                                                      15689\n",
       "Separated                                              11311\n",
       "Widowed                                                 7948\n",
       "Unknown                                                 5443\n",
       "U                                                       2594\n",
       "Marital Status                                          2350\n",
       "C                                                       1071\n",
       "S                                                        782\n",
       "single                                                   764\n",
       "Cohabitating                                             756\n",
       "Divorced/Annulled                                        743\n",
       "Parent is singl                                          607\n",
       "SI                                                       475\n",
       "0                                                        426\n",
       "Parent is single                                         380\n",
       "L                                                        208\n",
       "Fiancee                                                  206\n",
       "M                                                        201\n",
       "F                                                        192\n",
       "Domestic Partner                                         182\n",
       "MA                                                       151\n",
       "Living Cooperatively                                     141\n",
       "Remarried                                                132\n",
       "P                                                        122\n",
       "                                                       ...  \n",
       "separated for 10 yrs., children live w/ mother ups         1\n",
       "married, but wife lives in Ghana with 2 children           1\n",
       "physical separation                                        1\n",
       "in committed relationship                                  1\n",
       "Had two kids in first marriage                             1\n",
       "parents married                                            1\n",
       "wife recently asked for divorce                            1\n",
       "Divorced 3x                                                1\n",
       "Has one daughter from first marriage                       1\n",
       "Divorced after 9 years, he cheated                         1\n",
       "Hx of 1 prior marriage, married 13 years-divorce i         1\n",
       "supportive boyfriend                                       1\n",
       "Death of husband                                           1\n",
       "Fiancee died 1 year ago suddenly                           1\n",
       "Supportive girlfriend for past year                        1\n",
       "Family does not live here                                  1\n",
       "Married 30y                                                1\n",
       "In a relationship for past 6 months                        1\n",
       "Going through 2nd divorce                                  1\n",
       "Divorced in 1999                                           1\n",
       "Partner of 19 years passed away suddenly                   1\n",
       "hx of spouse abuse                                         1\n",
       "Impact of SA on marriage                                   1\n",
       "Divorce in process                                         1\n",
       "Dating Spencer                                             1\n",
       "Upcoming wedding                                           1\n",
       "Was married twice                                          1\n",
       "Never married -                                            1\n",
       "Husband died 2013                                          1\n",
       "Divorcing                                                  1\n",
       "Name: marital, Length: 394, dtype: int64"
      ]
     },
     "execution_count": 7,
     "metadata": {},
     "output_type": "execute_result"
    }
   ],
   "source": [
    "df.marital.value_counts()"
   ]
  },
  {
   "cell_type": "code",
   "execution_count": 8,
   "metadata": {},
   "outputs": [],
   "source": [
    "# df.marital = map(lambda x: x.title(), df.marital)\n",
    "df.marital = df.marital.str.lower()\n",
    "df.marital = df.marital.fillna('Unknown').astype(str)\n",
    "# df.marital.replace(['S', 'Si', 'SI', 'single','Singl'], 'Single', inplace=True)\n",
    "# df.marital.replace('Parent is singl', 'Single', inplace=True, regex=True)\n",
    "df.marital.replace('\\b[Ss][Ii]', 'Single', inplace=True, regex=True)\n",
    "df.marital.replace('Marital Status unknown', 'Unknown', inplace=True)\n",
    "df.marital.replace('Marital Status', 'Unknown', inplace=True)\n",
    "df.marital.replace('Never married', 'Never Married', inplace=True)\n",
    "df.marital.replace('Divorced/Annulled', 'Divorced', inplace=True)\n",
    "df.marital.replace('^[A-Za-z]$', 'Unknown', inplace=True, regex=True)"
   ]
  },
  {
   "cell_type": "code",
   "execution_count": 9,
   "metadata": {},
   "outputs": [],
   "source": [
    "marital_cleaned = df.marital.value_counts()[df.marital.value_counts() >= 500]"
   ]
  },
  {
   "cell_type": "code",
   "execution_count": 10,
   "metadata": {},
   "outputs": [
    {
     "data": {
      "image/png": "[encoded data removed]",
      "text/plain": [
       "<Figure size 432x288 with 1 Axes>"
      ]
     },
     "metadata": {
      "needs_background": "light"
     },
     "output_type": "display_data"
    }
   ],
   "source": [
    "plt.bar(df.marital.unique()[1:6], df.marital.value_counts()[1:6])\n",
    "plt.savefig('../results/plots/marital_status_top5.png', bbox_inches='tight')"
   ]
  },
  {
   "cell_type": "markdown",
   "metadata": {},
   "source": [
    "### Income"
   ]
  },
  {
   "cell_type": "code",
   "execution_count": 11,
   "metadata": {},
   "outputs": [],
   "source": [
    "np.set_printoptions(suppress=True)"
   ]
  },
  {
   "cell_type": "code",
   "execution_count": 12,
   "metadata": {},
   "outputs": [
    {
     "data": {
      "text/plain": [
       "501138"
      ]
     },
     "execution_count": 12,
     "metadata": {},
     "output_type": "execute_result"
    }
   ],
   "source": [
    "# Should try to work with np arrays if dataset is too big (~>50k)\n",
    "len(data)"
   ]
  },
  {
   "cell_type": "code",
   "execution_count": 13,
   "metadata": {},
   "outputs": [],
   "source": [
    "income_col = data[:,colnames.index('income')]\n",
    "income_col = income_col.astype(str)\n",
    "# income_col = [d for d in income_col if re.search('\\d+', d)]"
   ]
  },
  {
   "cell_type": "code",
   "execution_count": 14,
   "metadata": {},
   "outputs": [],
   "source": [
    "# Clean the strings\n",
    "regex_num = re.compile('^\\d+$')  #pattern: one or more digits only\n",
    "vmatch = np.vectorize(lambda x:bool(regex_num.match(x))) # run throughout the column\n",
    "sel = vmatch(income_col) \n",
    "income_ints = income_col[sel].astype(int) # convert to int"
   ]
  },
  {
   "cell_type": "code",
   "execution_count": 15,
   "metadata": {},
   "outputs": [],
   "source": [
    "income_filtered = income_ints[(income_ints >= 1000) & (income_ints <100000)]"
   ]
  },
  {
   "cell_type": "code",
   "execution_count": 16,
   "metadata": {},
   "outputs": [],
   "source": [
    "# from scipy import stats\n",
    "# stats.describe(income_filtered)"
   ]
  },
  {
   "cell_type": "code",
   "execution_count": 34,
   "metadata": {
    "scrolled": false
   },
   "outputs": [
    {
     "data": {
      "image/png": "[encoded data removed]",
      "text/plain": [
       "<Figure size 432x288 with 1 Axes>"
      ]
     },
     "metadata": {
      "needs_background": "light"
     },
     "output_type": "display_data"
    }
   ],
   "source": [
    "\n",
    "plt.hist(income_filtered, bins=20)\n",
    "plt.title(\"Histogram of Income levels\")\n",
    "plt.xlim([0,100000])\n",
    "plt.ylim([0,25000])\n",
    "\n",
    "# num_bins = 20\n",
    "# fig, ax = plt.subplots()\n",
    "# n, bins, patches = ax.hist(income_filtered, num_bins, density=1)\n",
    "plt.tick_params(axis= 'y', reset=True)\n",
    "plt.xlabel('Frequency')\n",
    "plt.ylabel('Income')\n",
    "plt.tight_layout()\n",
    "# plt.savefig('../results/plots/income_hist.png', bbox_inches='tight') # save image"
   ]
  },
  {
   "cell_type": "code",
   "execution_count": 40,
   "metadata": {},
   "outputs": [
    {
     "data": {
      "text/plain": [
       "(array([21365., 22932., 11600.,  8053.,  9109.,  4263.,  2443.,  2415.,\n",
       "         1359.,  1509.,   815.,   989.,   554.,   551.,   445.,   518.,\n",
       "          238.,   333.,   154.,   153.]),\n",
       " array([ 1000.  ,  5949.95, 10899.9 , 15849.85, 20799.8 , 25749.75,\n",
       "        30699.7 , 35649.65, 40599.6 , 45549.55, 50499.5 , 55449.45,\n",
       "        60399.4 , 65349.35, 70299.3 , 75249.25, 80199.2 , 85149.15,\n",
       "        90099.1 , 95049.05, 99999.  ]),\n",
       " <a list of 20 Patch objects>)"
      ]
     },
     "execution_count": 40,
     "metadata": {},
     "output_type": "execute_result"
    },
    {
     "data": {
      "image/png": "[encoded data removed]",
      "text/plain": [
       "<Figure size 432x288 with 1 Axes>"
      ]
     },
     "metadata": {
      "needs_background": "light"
     },
     "output_type": "display_data"
    }
   ],
   "source": [
    "fig, ax = plt.subplots(1,1)\n",
    "xticks = np.linspace(0,100000,21)\n",
    "ax.set_xticklabels(xticks)\n",
    "plt.hist(income_filtered, bins=20)"
   ]
  },
  {
   "cell_type": "markdown",
   "metadata": {},
   "source": [
    "### Gender"
   ]
  },
  {
   "cell_type": "markdown",
   "metadata": {},
   "source": [
    "If have time"
   ]
  },
  {
   "cell_type": "code",
   "execution_count": null,
   "metadata": {},
   "outputs": [],
   "source": []
  }
 ],
 "metadata": {
  "kernelspec": {
   "display_name": "Python 3",
   "language": "python",
   "name": "python3"
  },
  "language_info": {
   "codemirror_mode": {
    "name": "ipython",
    "version": 3
   },
   "file_extension": ".py",
   "mimetype": "text/x-python",
   "name": "python",
   "nbconvert_exporter": "python",
   "pygments_lexer": "ipython3",
   "version": "3.6.8"
  }
 },
 "nbformat": 4,
 "nbformat_minor": 2
}
